{
 "cells": [
  {
   "cell_type": "markdown",
   "metadata": {},
   "source": [
    "# Problem set-up\n",
    "\n",
    "_It is suggested you first go over the reading material before you start here._\n",
    "\n",
    "The problem with Quantum Computing Monte Carlo is the scaling of the state preparation. In this notebook, it is shown why there is a problem and you are pointed to some possible solutions."
   ]
  },
  {
   "cell_type": "markdown",
   "metadata": {},
   "source": [
    "## Probability distribution to load"
   ]
  },
  {
   "cell_type": "markdown",
   "metadata": {},
   "source": [
    "### Problem Definition\n",
    "\n",
    "We want to analyze the risk of a portfolio of $K$ assets.\n",
    "The default probability of every asset $k$ follows a *Gaussian Conditional Independence* model, i.e., given a value $z$ sampled from a latent random variable $Z$ following a standard normal distribution, the default probability of asset $k$ is given by\n",
    "\n",
    "$$p_k(z) = F\\left( \\frac{F^{-1}(p_k^0) - \\sqrt{\\rho_k}z}{\\sqrt{1 - \\rho_k}} \\right) $$\n",
    "\n",
    "where $F$ denotes the cumulative distribution function of $Z$, $p_k^0$ is the default probability of asset $k$ for $z=0$ and $\\rho_k$ is the sensitivity of the default probability of asset $k$ with respect to $Z$. Thus, given a concrete realization of $Z$ the individual default events are assumed to be independent from each other.\n",
    "\n",
    "We are interested in analyzing risk measures of the total loss\n",
    "\n",
    "$$ L = \\sum_{k=1}^K \\lambda_k X_k(Z) $$\n",
    "\n",
    "where $\\lambda_k$ denotes the _loss given default_ of asset $k$, and given $Z$, $X_k(Z)$ denotes a Bernoulli variable representing the default event of asset $k$. More precisely, we are interested in the expected value $\\mathbb{E}[L]$, the Value at Risk (VaR) of $L$ and the Conditional Value at Risk of $L$ (also called Expected Shortfall). Where VaR and CVaR are defined as\n",
    "\n",
    "$$ \\text{VaR}_{\\alpha}(L) = \\inf \\{ x \\mid \\mathbb{P}[L <= x] \\geq 1 - \\alpha \\}$$\n",
    "\n",
    "with confidence level $\\alpha \\in [0, 1]$, and\n",
    "\n",
    "$$ \\text{CVaR}_{\\alpha}(L) = \\mathbb{E}[ L \\mid L \\geq \\text{VaR}_{\\alpha}(L) ].$$\n",
    "\n",
    "For more details on the considered model, see, e.g.,<br>\n",
    "[Regulatory Capital Modeling for Credit Risk. Marek Rutkowski, Silvio Tarca](https://arxiv.org/abs/1412.1183)\n",
    "\n",
    "\n",
    "\n",
    "The problem is defined by the following parameters:\n",
    "\n",
    "- the resolution of $Z$, given by $N_Z$\n",
    "- number of qubits used to represent $Z$, denoted by $n_z=\\lceil \\log{N_Z} \\rceil$\n",
    "- truncation value for $Z$, denoted by $z_{\\text{max}}$, i.e., Z is assumed to take $2^{n_z}$ equidistant values in $\\{-z_{max}, ..., +z_{max}\\}$ \n",
    "- the base default probabilities for each asset $p_0^k \\in (0, 1)$, $k=1, ..., K$\n",
    "- sensitivities of the default probabilities with respect to $Z$, denoted by $\\rho_k \\in [0, 1)$\n",
    "- loss given default for asset $k$, denoted by $\\lambda_k$\n",
    "- confidence level for VaR / CVaR $\\alpha \\in [0, 1]$.\n",
    "\n",
    "\n",
    "During this hackathon, the focus will be on the probability distribution loading part, not the VaR and CVaR calculation."
   ]
  },
  {
   "cell_type": "code",
   "execution_count": 1,
   "metadata": {},
   "outputs": [
    {
     "name": "stdout",
     "output_type": "stream",
     "text": [
      "Requirement already satisfied: qiskit-finance in /opt/conda/lib/python3.10/site-packages (0.4.1)\n",
      "Requirement already satisfied: pylatexenc in /opt/conda/lib/python3.10/site-packages (2.10)\n",
      "Requirement already satisfied: perfplot in /opt/conda/lib/python3.10/site-packages (0.10.2)\n",
      "Requirement already satisfied: qiskit>=0.45 in /opt/conda/lib/python3.10/site-packages (from qiskit-finance) (1.0.2)\n",
      "Requirement already satisfied: qiskit-algorithms>=0.2.0 in /opt/conda/lib/python3.10/site-packages (from qiskit-finance) (0.3.0)\n",
      "Requirement already satisfied: qiskit-optimization>=0.6.0 in /opt/conda/lib/python3.10/site-packages (from qiskit-finance) (0.6.1)\n",
      "Requirement already satisfied: scipy>=1.4 in /opt/conda/lib/python3.10/site-packages (from qiskit-finance) (1.10.1)\n",
      "Requirement already satisfied: numpy>=1.17 in /opt/conda/lib/python3.10/site-packages (from qiskit-finance) (1.21.6)\n",
      "Requirement already satisfied: psutil>=5 in /opt/conda/lib/python3.10/site-packages (from qiskit-finance) (5.9.5)\n",
      "Requirement already satisfied: fastdtw in /opt/conda/lib/python3.10/site-packages (from qiskit-finance) (0.3.4)\n",
      "Requirement already satisfied: setuptools>=40.1.0 in /opt/conda/lib/python3.10/site-packages (from qiskit-finance) (67.7.2)\n",
      "Requirement already satisfied: pandas in /opt/conda/lib/python3.10/site-packages (from qiskit-finance) (2.0.2)\n",
      "Requirement already satisfied: nasdaq-data-link in /opt/conda/lib/python3.10/site-packages (from qiskit-finance) (1.0.4)\n",
      "Requirement already satisfied: yfinance>=0.1.70 in /opt/conda/lib/python3.10/site-packages (from qiskit-finance) (0.2.37)\n",
      "Requirement already satisfied: certifi in /opt/conda/lib/python3.10/site-packages (from qiskit-finance) (2024.2.2)\n",
      "Requirement already satisfied: urllib3 in /opt/conda/lib/python3.10/site-packages (from qiskit-finance) (1.26.18)\n",
      "Requirement already satisfied: matplotlib in /opt/conda/lib/python3.10/site-packages (from perfplot) (3.7.1)\n",
      "Requirement already satisfied: matplotx in /opt/conda/lib/python3.10/site-packages (from perfplot) (0.3.10)\n",
      "Requirement already satisfied: rich in /opt/conda/lib/python3.10/site-packages (from perfplot) (13.7.1)\n",
      "Requirement already satisfied: rustworkx>=0.14.0 in /opt/conda/lib/python3.10/site-packages (from qiskit>=0.45->qiskit-finance) (0.14.2)\n",
      "Requirement already satisfied: sympy>=1.3 in /opt/conda/lib/python3.10/site-packages (from qiskit>=0.45->qiskit-finance) (1.12)\n",
      "Requirement already satisfied: dill>=0.3 in /opt/conda/lib/python3.10/site-packages (from qiskit>=0.45->qiskit-finance) (0.3.6)\n",
      "Requirement already satisfied: python-dateutil>=2.8.0 in /opt/conda/lib/python3.10/site-packages (from qiskit>=0.45->qiskit-finance) (2.8.2)\n",
      "Requirement already satisfied: stevedore>=3.0.0 in /opt/conda/lib/python3.10/site-packages (from qiskit>=0.45->qiskit-finance) (5.2.0)\n",
      "Requirement already satisfied: typing-extensions in /opt/conda/lib/python3.10/site-packages (from qiskit>=0.45->qiskit-finance) (4.6.2)\n",
      "Requirement already satisfied: symengine>=0.11 in /opt/conda/lib/python3.10/site-packages (from qiskit>=0.45->qiskit-finance) (0.11.0)\n",
      "Requirement already satisfied: docplex!=2.24.231,>=2.21.207 in /opt/conda/lib/python3.10/site-packages (from qiskit-optimization>=0.6.0->qiskit-finance) (2.27.239)\n",
      "Requirement already satisfied: networkx>=2.6.3 in /opt/conda/lib/python3.10/site-packages (from qiskit-optimization>=0.6.0->qiskit-finance) (2.8.8)\n",
      "Requirement already satisfied: requests>=2.31 in /opt/conda/lib/python3.10/site-packages (from yfinance>=0.1.70->qiskit-finance) (2.31.0)\n",
      "Requirement already satisfied: multitasking>=0.0.7 in /opt/conda/lib/python3.10/site-packages (from yfinance>=0.1.70->qiskit-finance) (0.0.11)\n",
      "Requirement already satisfied: lxml>=4.9.1 in /opt/conda/lib/python3.10/site-packages (from yfinance>=0.1.70->qiskit-finance) (5.2.1)\n",
      "Requirement already satisfied: appdirs>=1.4.4 in /opt/conda/lib/python3.10/site-packages (from yfinance>=0.1.70->qiskit-finance) (1.4.4)\n",
      "Requirement already satisfied: pytz>=2022.5 in /opt/conda/lib/python3.10/site-packages (from yfinance>=0.1.70->qiskit-finance) (2023.3)\n",
      "Requirement already satisfied: frozendict>=2.3.4 in /opt/conda/lib/python3.10/site-packages (from yfinance>=0.1.70->qiskit-finance) (2.4.2)\n",
      "Requirement already satisfied: peewee>=3.16.2 in /opt/conda/lib/python3.10/site-packages (from yfinance>=0.1.70->qiskit-finance) (3.17.1)\n",
      "Requirement already satisfied: beautifulsoup4>=4.11.1 in /opt/conda/lib/python3.10/site-packages (from yfinance>=0.1.70->qiskit-finance) (4.12.2)\n",
      "Requirement already satisfied: html5lib>=1.1 in /opt/conda/lib/python3.10/site-packages (from yfinance>=0.1.70->qiskit-finance) (1.1)\n",
      "Requirement already satisfied: tzdata>=2022.1 in /opt/conda/lib/python3.10/site-packages (from pandas->qiskit-finance) (2023.3)\n",
      "Requirement already satisfied: contourpy>=1.0.1 in /opt/conda/lib/python3.10/site-packages (from matplotlib->perfplot) (1.0.7)\n",
      "Requirement already satisfied: cycler>=0.10 in /opt/conda/lib/python3.10/site-packages (from matplotlib->perfplot) (0.11.0)\n",
      "Requirement already satisfied: fonttools>=4.22.0 in /opt/conda/lib/python3.10/site-packages (from matplotlib->perfplot) (4.39.4)\n",
      "Requirement already satisfied: kiwisolver>=1.0.1 in /opt/conda/lib/python3.10/site-packages (from matplotlib->perfplot) (1.4.4)\n",
      "Requirement already satisfied: packaging>=20.0 in /opt/conda/lib/python3.10/site-packages (from matplotlib->perfplot) (23.1)\n",
      "Requirement already satisfied: pillow>=6.2.0 in /opt/conda/lib/python3.10/site-packages (from matplotlib->perfplot) (9.5.0)\n",
      "Requirement already satisfied: pyparsing>=2.3.1 in /opt/conda/lib/python3.10/site-packages (from matplotlib->perfplot) (3.0.9)\n",
      "Requirement already satisfied: inflection>=0.3.1 in /opt/conda/lib/python3.10/site-packages (from nasdaq-data-link->qiskit-finance) (0.5.1)\n",
      "Requirement already satisfied: six in /opt/conda/lib/python3.10/site-packages (from nasdaq-data-link->qiskit-finance) (1.16.0)\n",
      "Requirement already satisfied: more-itertools in /opt/conda/lib/python3.10/site-packages (from nasdaq-data-link->qiskit-finance) (10.2.0)\n",
      "Requirement already satisfied: markdown-it-py>=2.2.0 in /opt/conda/lib/python3.10/site-packages (from rich->perfplot) (3.0.0)\n",
      "Requirement already satisfied: pygments<3.0.0,>=2.13.0 in /opt/conda/lib/python3.10/site-packages (from rich->perfplot) (2.15.1)\n",
      "Requirement already satisfied: soupsieve>1.2 in /opt/conda/lib/python3.10/site-packages (from beautifulsoup4>=4.11.1->yfinance>=0.1.70->qiskit-finance) (2.3.2.post1)\n",
      "Requirement already satisfied: webencodings in /opt/conda/lib/python3.10/site-packages (from html5lib>=1.1->yfinance>=0.1.70->qiskit-finance) (0.5.1)\n",
      "Requirement already satisfied: mdurl~=0.1 in /opt/conda/lib/python3.10/site-packages (from markdown-it-py>=2.2.0->rich->perfplot) (0.1.2)\n",
      "Requirement already satisfied: charset-normalizer<4,>=2 in /opt/conda/lib/python3.10/site-packages (from requests>=2.31->yfinance>=0.1.70->qiskit-finance) (3.1.0)\n",
      "Requirement already satisfied: idna<4,>=2.5 in /opt/conda/lib/python3.10/site-packages (from requests>=2.31->yfinance>=0.1.70->qiskit-finance) (3.4)\n",
      "Requirement already satisfied: pbr!=2.1.0,>=2.0.0 in /opt/conda/lib/python3.10/site-packages (from stevedore>=3.0.0->qiskit>=0.45->qiskit-finance) (6.0.0)\n",
      "Requirement already satisfied: mpmath>=0.19 in /opt/conda/lib/python3.10/site-packages (from sympy>=1.3->qiskit>=0.45->qiskit-finance) (1.3.0)\n"
     ]
    }
   ],
   "source": [
    "!pip install qiskit-finance pylatexenc perfplot"
   ]
  },
  {
   "cell_type": "code",
   "execution_count": 2,
   "metadata": {},
   "outputs": [],
   "source": [
    "# imports\n",
    "import numpy as np"
   ]
  },
  {
   "cell_type": "code",
   "execution_count": 3,
   "metadata": {},
   "outputs": [],
   "source": [
    "# set problem parameters\n",
    "N_z = 32\n",
    "n_z = int(np.ceil(np.log2(N_z)))\n",
    "z_max = 3\n",
    "z_values = np.linspace(-z_max, z_max, 2**n_z)\n",
    "p_zeros = [0.15, 0.25, 0.2, 0.1]\n",
    "rhos = [0.1, 0.05, 0.15, 0.05]\n",
    "lgd = [1, 2, 1, 3]\n",
    "K = len(p_zeros)"
   ]
  },
  {
   "cell_type": "markdown",
   "metadata": {},
   "source": [
    "## Qiskit implementation\n",
    "\n",
    "Qiskit already has an implementation for this model. It is within [`qiskit_finance`](https://qiskit-community.github.io/qiskit-finance/). The implementation is imported below as `GCI`.\n",
    "\n",
    "Let's take a closer look at that implementation."
   ]
  },
  {
   "cell_type": "code",
   "execution_count": 4,
   "metadata": {},
   "outputs": [
    {
     "data": {
      "text/html": [
       "<pre style=\"word-wrap: normal;white-space: pre;background: #fff0;line-height: 1.1;font-family: &quot;Courier New&quot;,Courier,monospace\">     ┌───────┐┌─────────┐┌─────────┐┌─────────┐┌─────────┐\n",
       "q_0: ┤0      ├┤0        ├┤0        ├┤0        ├┤0        ├\n",
       "     │       ││         ││         ││         ││         │\n",
       "q_1: ┤1      ├┤1        ├┤1        ├┤1        ├┤1        ├\n",
       "     │       ││         ││         ││         ││         │\n",
       "q_2: ┤2 P(X) ├┤2        ├┤2        ├┤2        ├┤2        ├\n",
       "     │       ││  LinRot ││         ││         ││         │\n",
       "q_3: ┤3      ├┤3        ├┤3 LinRot ├┤3        ├┤3        ├\n",
       "     │       ││         ││         ││  LinRot ││         │\n",
       "q_4: ┤4      ├┤4        ├┤4        ├┤4        ├┤4 LinRot ├\n",
       "     └───────┘│         ││         ││         ││         │\n",
       "q_5: ─────────┤5        ├┤         ├┤         ├┤         ├\n",
       "              └─────────┘│         ││         ││         │\n",
       "q_6: ────────────────────┤5        ├┤         ├┤         ├\n",
       "                         └─────────┘│         ││         │\n",
       "q_7: ───────────────────────────────┤5        ├┤         ├\n",
       "                                    └─────────┘│         │\n",
       "q_8: ──────────────────────────────────────────┤5        ├\n",
       "                                               └─────────┘</pre>"
      ],
      "text/plain": [
       "     ┌───────┐┌─────────┐┌─────────┐┌─────────┐┌─────────┐\n",
       "q_0: ┤0      ├┤0        ├┤0        ├┤0        ├┤0        ├\n",
       "     │       ││         ││         ││         ││         │\n",
       "q_1: ┤1      ├┤1        ├┤1        ├┤1        ├┤1        ├\n",
       "     │       ││         ││         ││         ││         │\n",
       "q_2: ┤2 P(X) ├┤2        ├┤2        ├┤2        ├┤2        ├\n",
       "     │       ││  LinRot ││         ││         ││         │\n",
       "q_3: ┤3      ├┤3        ├┤3 LinRot ├┤3        ├┤3        ├\n",
       "     │       ││         ││         ││  LinRot ││         │\n",
       "q_4: ┤4      ├┤4        ├┤4        ├┤4        ├┤4 LinRot ├\n",
       "     └───────┘│         ││         ││         ││         │\n",
       "q_5: ─────────┤5        ├┤         ├┤         ├┤         ├\n",
       "              └─────────┘│         ││         ││         │\n",
       "q_6: ────────────────────┤5        ├┤         ├┤         ├\n",
       "                         └─────────┘│         ││         │\n",
       "q_7: ───────────────────────────────┤5        ├┤         ├\n",
       "                                    └─────────┘│         │\n",
       "q_8: ──────────────────────────────────────────┤5        ├\n",
       "                                               └─────────┘"
      ]
     },
     "execution_count": 4,
     "metadata": {},
     "output_type": "execute_result"
    }
   ],
   "source": [
    "import qiskit as q\n",
    "\n",
    "# took from qiskit_finance.circuit.library\n",
    "\"\"\"The Gaussian Conditional Independence Model for Credit Risk.\"\"\"\n",
    "\n",
    "from typing import List, Union\n",
    "import numpy as np\n",
    "from scipy.stats.distributions import norm\n",
    "\n",
    "from qiskit.circuit import QuantumCircuit\n",
    "from qiskit.circuit.library import LinearPauliRotations\n",
    "from qiskit_finance.circuit.library.probability_distributions.normal import (\n",
    "    NormalDistribution,\n",
    ")\n",
    "\n",
    "\n",
    "class GCI(q.QuantumCircuit):\n",
    "    \"\"\"The Gaussian Conditional Independence Model for Credit Risk.\n",
    "    Reference: https://arxiv.org/abs/1412.1183\n",
    "    Dependency between individual risk variables and latent variable is approximated linearly.\n",
    "    \"\"\"\n",
    "\n",
    "    def __init__(\n",
    "        self,\n",
    "        n_normal: int,\n",
    "        normal_max_value: float,\n",
    "        p_zeros: Union[List[float], np.ndarray],\n",
    "        rhos: Union[List[float], np.ndarray],\n",
    "    ) -> None:\n",
    "        \"\"\"\n",
    "        Args:\n",
    "            n_normal: Number of qubits to represent the latent normal random variable Z\n",
    "            normal_max_value: Min/max value to truncate the latent normal random variable Z\n",
    "            p_zeros: Standard default probabilities for each asset\n",
    "            rhos: Sensitivities of default probability of assets with respect to latent variable Z\n",
    "        \"\"\"\n",
    "        self.n_normal = n_normal\n",
    "        self.normal_max_value = normal_max_value\n",
    "        self.p_zeros = p_zeros\n",
    "        self.rhos = rhos\n",
    "        num_qubits = n_normal + len(p_zeros)\n",
    "\n",
    "        # get normal (inverse) CDF and pdf (these names are from the paper, therefore ignore\n",
    "        # pylint)\n",
    "        def F(x):  # pylint: disable=invalid-name\n",
    "            return norm.cdf(x)\n",
    "\n",
    "        def F_inv(x):  # pylint: disable=invalid-name\n",
    "            return norm.ppf(x)\n",
    "\n",
    "        def f(x):  # pylint: disable=invalid-name\n",
    "            return norm.pdf(x)\n",
    "\n",
    "        # create linear rotations for conditional defaults\n",
    "        slopes = []\n",
    "        offsets = []\n",
    "        for rho, p_zero in zip(rhos, p_zeros):\n",
    "            psi = F_inv(p_zero) / np.sqrt(1 - rho)\n",
    "\n",
    "            # compute slope / offset\n",
    "            slope = -np.sqrt(rho) / np.sqrt(1 - rho)\n",
    "            slope *= f(psi) / np.sqrt(1 - F(psi)) / np.sqrt(F(psi))\n",
    "            offset = 2 * np.arcsin(np.sqrt(F(psi)))\n",
    "\n",
    "            # adjust for integer to normal range mapping\n",
    "            offset += slope * (-normal_max_value)\n",
    "            slope *= 2 * normal_max_value / (2**n_normal - 1)\n",
    "\n",
    "            offsets += [offset]\n",
    "            slopes += [slope]\n",
    "\n",
    "        # create normal distribution\n",
    "        normal_distribution = NormalDistribution(\n",
    "            n_normal,\n",
    "            0,\n",
    "            1,\n",
    "            bounds=(-normal_max_value, normal_max_value),\n",
    "        )\n",
    "\n",
    "        # build circuit\n",
    "        inner = QuantumCircuit(num_qubits, name=\"P(X)\")\n",
    "        inner.append(normal_distribution.to_gate(), list(range(n_normal)))\n",
    "        for k, (slope, offset) in enumerate(zip(slopes, offsets)):\n",
    "            lry = LinearPauliRotations(n_normal, slope, offset)\n",
    "            qubits = list(range(n_normal)) + [n_normal + k]\n",
    "            inner.append(lry.to_gate(), qubits)\n",
    "\n",
    "        super().__init__(num_qubits, name=\"P(X)\")\n",
    "        self.append(inner.to_gate(), inner.qubits)\n",
    "\n",
    "\n",
    "# Create unitary\n",
    "u = GCI(n_z, z_max, p_zeros, rhos)\n",
    "\n",
    "# Draw the unitary (decomposed)\n",
    "u.decompose().draw()"
   ]
  },
  {
   "cell_type": "markdown",
   "metadata": {},
   "source": [
    "## Creating P(X)\n",
    "\n",
    "The linear rotations are not that interesting for now. Let us inspect the `P(X)` part of the circuit."
   ]
  },
  {
   "cell_type": "code",
   "execution_count": 14,
   "metadata": {},
   "outputs": [
    {
     "data": {
      "text/html": [
       "<pre style=\"word-wrap: normal;white-space: pre;background: #fff0;line-height: 1.1;font-family: &quot;Courier New&quot;,Courier,monospace\">     ┌───────┐\n",
       "q_0: ┤0      ├\n",
       "     │       │\n",
       "q_1: ┤1 P(X) ├\n",
       "     │       │\n",
       "q_2: ┤2      ├\n",
       "     └───────┘</pre>"
      ],
      "text/plain": [
       "     ┌───────┐\n",
       "q_0: ┤0      ├\n",
       "     │       │\n",
       "q_1: ┤1 P(X) ├\n",
       "     │       │\n",
       "q_2: ┤2      ├\n",
       "     └───────┘"
      ]
     },
     "execution_count": 14,
     "metadata": {},
     "output_type": "execute_result"
    }
   ],
   "source": [
    "# Create normal distribution\n",
    "normal_distribution = NormalDistribution(\n",
    "    3,\n",
    "    0,\n",
    "    1,\n",
    "    bounds=(-z_max, z_max),\n",
    ")\n",
    "\n",
    "# Draw it\n",
    "normal_distribution.draw()\n"
   ]
  },
  {
   "cell_type": "markdown",
   "metadata": {},
   "source": [
    "But what is inside? To find that out, we transpile the gate."
   ]
  },
  {
   "cell_type": "code",
   "execution_count": null,
   "metadata": {
    "scrolled": true
   },
   "outputs": [],
   "source": [
    "# Define which basis gates to use\n",
    "basis_gates = [\"h\", \"ry\", \"cx\", \"p\", \"x\", \"s\", \"sdg\", \"y\", \"t\"]\n",
    "\n",
    "# Transpile the circuit\n",
    "# normal_distribution.measure_all(\"meas\")\n",
    "normal_distribution_transpiled = q.transpile(normal_distribution, basis_gates=basis_gates)\n",
    "\n",
    "\n",
    "def remove_specific_cx(circuit):\n",
    "    modified_circuit = QuantumCircuit(*circuit.qregs, *circuit.cregs)\n",
    "    \n",
    "    # Mapping qubits to their indices for reference\n",
    "    qubit_indices_map = {qubit: idx for idx, qubit in enumerate(circuit.qubits)}\n",
    "    \n",
    "    # Track whether the last gate on each qubit was Ry(0)\n",
    "    last_ry_zero = {idx: False for idx in qubit_indices_map.values()}\n",
    "    \n",
    "    for instruction in circuit.data:\n",
    "        gate, qubits, clbits = instruction\n",
    "        qubit_indices = [qubit_indices_map[q] for q in qubits]\n",
    "        \n",
    "        # Check if the gate is an Ry gate with a parameter close to 0\n",
    "        if gate.name == 'ry' and np.isclose(gate.params[0], 0.0, atol=1e-8):\n",
    "            # Mark that the last Ry operation on this qubit was 0\n",
    "            for q_index in qubit_indices:\n",
    "                last_ry_zero[q_index] = True\n",
    "        elif gate.name == 'cx':\n",
    "            # If it's a CNOT, check if it should be skipped\n",
    "            if any(last_ry_zero[q_index] for q_index in qubit_indices):\n",
    "                # Reset the flags and skip this CNOT\n",
    "                for q_index in qubit_indices:\n",
    "                    last_ry_zero[q_index] = False\n",
    "                continue\n",
    "        else:\n",
    "            # For all other gates, reset the flag\n",
    "            for q_index in qubit_indices:\n",
    "                last_ry_zero[q_index] = False\n",
    "\n",
    "        # Append the gate to the modified circuit\n",
    "        modified_circuit.append(gate, qubits, clbits)\n",
    "\n",
    "    return modified_circuit\n",
    "\n",
    "\n",
    "\n",
    "modified_circuit = remove_specific_cx(normal_distribution_transpiled)\n",
    "normal_distribution_transpiled.draw(\"mpl\")"
   ]
  },
  {
   "cell_type": "markdown",
   "metadata": {},
   "source": [
    "As you can see, the number of controlled gates on the 2nd qubit (q3) is not that high (2), but then the number of controlled gates on the next qubit (q2) is already 4. q1 has 8 controlled gates and q0 has 16 controlled gates. I.e., the circuit depth scales exponential.\n",
    "\n",
    "That is bad!\n",
    "\n",
    "Quantum computers of today have many qubits ($O(100)$), but the qubits are not very good. Noise takes over quickly.\n",
    "\n",
    "Let's see what that means."
   ]
  },
  {
   "cell_type": "code",
   "execution_count": 7,
   "metadata": {},
   "outputs": [
    {
     "name": "stdout",
     "output_type": "stream",
     "text": [
      "57\n"
     ]
    },
    {
     "data": {
      "image/png": "[encoded data removed]",
      "text/plain": [
       "<Figure size 1332.89x451.5 with 1 Axes>"
      ]
     },
     "execution_count": 7,
     "metadata": {},
     "output_type": "execute_result"
    }
   ],
   "source": [
    "from qiskit import QuantumCircuit, QuantumRegister\n",
    "# Define which basis gates to use\n",
    "basis_gates = [\"h\", \"ry\", \"cx\", \"p\", \"x\", \"s\", \"sdg\", \"y\", \"t\"]\n",
    "\n",
    "# Transpile the circuit\n",
    "# normal_distribution.measure_all(\"meas\")\n",
    "normal_distribution_transpiled = q.transpile(normal_distribution, basis_gates=basis_gates)\n",
    "\n",
    "\n",
    "def remove_specific_cx(circuit):\n",
    "    modified_circuit = QuantumCircuit(*circuit.qregs, *circuit.cregs)\n",
    "    \n",
    "    # Mapping qubits to their indices for reference\n",
    "    qubit_indices_map = {qubit: idx for idx, qubit in enumerate(circuit.qubits)}\n",
    "    \n",
    "    # Track whether the last gate on each qubit was Ry(0)\n",
    "    last_ry_zero = {idx: False for idx in qubit_indices_map.values()}\n",
    "    \n",
    "    for instruction in circuit.data:\n",
    "        gate, qubits, clbits = instruction\n",
    "        qubit_indices = [qubit_indices_map[q] for q in qubits]\n",
    "        \n",
    "        # Check if the gate is an Ry gate with a parameter close to 0\n",
    "        if gate.name == 'ry' and np.isclose(gate.params[0], 0.0, atol=1e-8):\n",
    "            # Mark that the last Ry operation on this qubit was 0\n",
    "            for q_index in qubit_indices:\n",
    "                last_ry_zero[q_index] = True\n",
    "        elif gate.name == 'cx':\n",
    "            # If it's a CNOT, check if it should be skipped\n",
    "            if any(last_ry_zero[q_index] for q_index in qubit_indices):\n",
    "                # Reset the flags and skip this CNOT\n",
    "                for q_index in qubit_indices:\n",
    "                    last_ry_zero[q_index] = False\n",
    "                continue\n",
    "        else:\n",
    "            # For all other gates, reset the flag\n",
    "            for q_index in qubit_indices:\n",
    "                last_ry_zero[q_index] = False\n",
    "\n",
    "        # Append the gate to the modified circuit\n",
    "        modified_circuit.append(gate, qubits, clbits)\n",
    "\n",
    "    return modified_circuit\n",
    "\n",
    "\n",
    "\n",
    "modified_circuit = remove_specific_cx(normal_distribution_transpiled)\n",
    "# Define a quantum register with 4 qubits: 3 original + 1 ancilla\n",
    "qr = QuantumRegister(4, 'q')\n",
    "circuit = QuantumCircuit(qr)\n",
    "\n",
    "# Initial state preparations\n",
    "circuit.ry(1.5708, qr[2])  # Apply RY to the control qubit (used as example)\n",
    "circuit.ry(1.5708, qr[1])\n",
    "circuit.ry(1.5708, qr[0])\n",
    "\n",
    "# Copy control qubit state (qr[2]) to ancilla (qr[3])\n",
    "circuit.cx(qr[2], qr[3])\n",
    "\n",
    "# Use the ancilla (qr[3]) to perform CNOT operations\n",
    "circuit.cx(qr[3], qr[1])\n",
    "circuit.cx(qr[3], qr[0])\n",
    "\n",
    "# Optional: Reset the ancilla if it will be reused\n",
    "circuit.cx(qr[2], qr[3])  # This uncomputes the ancilla, setting it back to initial state\n",
    "\n",
    "# Continue with further operations if needed\n",
    "circuit.ry(0.285, qr[0])\n",
    "circuit.cx(qr[3], qr[0])\n",
    "circuit.ry(1.665e-16, qr[0])\n",
    "circuit.cx(qr[3], qr[0])\n",
    "circuit.ry(0.644, qr[0])\n",
    "\n",
    "normal_distribution = circuit\n",
    "normal_distribution.measure_all()\n",
    "#normal_distribution_transpiled.draw(\"mpl\")\n",
    "print(normal_distribution_transpiled.depth())\n",
    "normal_distribution.draw(\"mpl\")"
   ]
  },
  {
   "cell_type": "markdown",
   "metadata": {},
   "source": [
    "## Running on a noisy simulator"
   ]
  },
  {
   "cell_type": "code",
   "execution_count": 8,
   "metadata": {
    "scrolled": true
   },
   "outputs": [],
   "source": [
    "from qiskit.transpiler.preset_passmanagers import generate_preset_pass_manager\n",
    "from qiskit_aer import AerSimulator\n",
    "from qiskit_ibm_runtime import SamplerV2 as Sampler\n",
    "from qiskit_ibm_runtime.fake_provider import FakeManilaV2\n",
    "\n",
    "# Run the sampler job locally using FakeManilaV2\n",
    "fake_manila = FakeManilaV2()\n",
    "pm = generate_preset_pass_manager(backend=fake_manila, optimization_level=1)\n",
    "qc_trans_manilla = pm.run(normal_distribution)\n",
    "\n",
    "noisy_simulator = AerSimulator.from_backend(fake_manila)\n",
    "results_noisy = noisy_simulator.run(qc_trans_manilla, shots=8192).result()\n",
    "\n",
    "# Run the circuit locally using an exact simulator\n",
    "# This is for testing purposes\n",
    "aer_sim = AerSimulator()\n",
    "qc_trans_aer = q.transpile(normal_distribution, aer_sim)\n",
    "\n",
    "results_exact = aer_sim.run(qc_trans_aer, shots=10e6).result()"
   ]
  },
  {
   "cell_type": "code",
   "execution_count": 9,
   "metadata": {},
   "outputs": [
    {
     "data": {
      "image/png": "[encoded data removed]",
      "text/plain": [
       "<Figure size 700x500 with 1 Axes>"
      ]
     },
     "execution_count": 9,
     "metadata": {},
     "output_type": "execute_result"
    }
   ],
   "source": [
    "from qiskit.visualization import plot_distribution\n",
    "\n",
    "# Get the counts\n",
    "counts_noisy = results_noisy.get_counts(0)\n",
    "counts_exact = results_exact.get_counts(0)\n",
    "\n",
    "# Now plot the results\n",
    "plot_distribution(\n",
    "    [counts_noisy, counts_exact], legend=[\"noisy\", \"exact\"], bar_labels=False\n",
    ")"
   ]
  },
  {
   "cell_type": "markdown",
   "metadata": {},
   "source": [
    "Now the noisy simulator results do not look like a Gaussian to me.\n",
    "\n",
    "That is because the circuits are too deep."
   ]
  },
  {
   "cell_type": "markdown",
   "metadata": {},
   "source": [
    "## Scaling analysis\n",
    "\n",
    "Let see how that scales."
   ]
  },
  {
   "cell_type": "code",
   "execution_count": 10,
   "metadata": {},
   "outputs": [],
   "source": [
    "# import perfplot\n",
    "\n",
    "\n",
    "# Create a wrapper function for the qiskit implementation\n",
    "def qiskit_normal_distribution(N_z):\n",
    "    n_z = int(np.ceil(np.log2(N_z)))\n",
    "    normal_distribution = NormalDistribution(n_z, 0, 1, (-z_max, z_max))\n",
    "\n",
    "    print(f\" Normalized circuit depth is {get_circuit_depth(normal_distribution)}\")\n",
    "    normal_distribution.draw(\"mpl\")\n",
    "    \n",
    "    normal_distribution2 = remove_specific_cx(normal_distribution)\n",
    "\n",
    "    print(f\"Our circuit depth is {normal_distribution2.depth()}\")\n",
    "    normal_distribution2.draw(\"mpl\")\n",
    "\n",
    "    return normal_distribution2\n",
    "\n",
    "\n",
    "# Create a wrapper function that calculates the circuit depth\n",
    "def get_circuit_depth(qc):\n",
    "    qc_transpiled = q.transpile(qc, basis_gates=basis_gates)\n",
    "    return qc_transpiled.depth()"
   ]
  },
  {
   "cell_type": "code",
   "execution_count": 11,
   "metadata": {},
   "outputs": [
    {
     "name": "stdout",
     "output_type": "stream",
     "text": [
      " Normalized circuit depth is 1\n",
      "Our circuit depth is 1\n",
      " Normalized circuit depth is 4\n",
      "Our circuit depth is 1\n",
      " Normalized circuit depth is 11\n",
      "Our circuit depth is 1\n",
      " Normalized circuit depth is 26\n",
      "Our circuit depth is 1\n",
      " Normalized circuit depth is 57\n",
      "Our circuit depth is 1\n",
      " Normalized circuit depth is 120\n",
      "Our circuit depth is 1\n",
      " Normalized circuit depth is 247\n",
      "Our circuit depth is 1\n",
      " Normalized circuit depth is 502\n",
      "Our circuit depth is 1\n",
      " Normalized circuit depth is 1013\n",
      "Our circuit depth is 1\n",
      " Normalized circuit depth is 2036\n",
      "Our circuit depth is 1\n",
      " Normalized circuit depth is 4083\n",
      "Our circuit depth is 1\n",
      " Normalized circuit depth is 8178\n",
      "Our circuit depth is 1\n"
     ]
    },
    {
     "data": {
      "image/png": "[encoded data removed]",
      "text/plain": [
       "<Figure size 640x480 with 1 Axes>"
      ]
     },
     "metadata": {},
     "output_type": "display_data"
    }
   ],
   "source": [
    "import matplotlib.pyplot as plt\n",
    "\n",
    "plt.style.use(\"default\")\n",
    "\n",
    "# Create a plot of the circuit depth vs. number of qubits\n",
    "\n",
    "# Set the number of qubits\n",
    "x = np.logspace(1, 12, 12, base=2, dtype=int)\n",
    "\n",
    "# Get the circuit depth for qiskit implementation\n",
    "y_qiskit = [get_circuit_depth(qiskit_normal_distribution(int(n))) for n in x]\n",
    "plt.plot(x, y_qiskit, label=\"qiskit\")\n",
    "\n",
    "# Any other implementations go here\n",
    "\n",
    "# Show the plot\n",
    "plt.xlabel(\"resolution $N_Z$\")\n",
    "plt.ylabel(\"circuit depth\")\n",
    "\n",
    "plt.xscale(\"log\")\n",
    "plt.yscale(\"log\")\n",
    "\n",
    "plt.legend()\n",
    "plt.show()"
   ]
  },
  {
   "cell_type": "markdown",
   "metadata": {},
   "source": [
    "# Hackathon challenge\n",
    "\n",
    "Your challenge is not to create a distribution loading method that can load distributions sub-exponential. That would be too much to ask (although it would be cool 😉).\n",
    "\n",
    "The challenge is to change the distribution loading of qiskit in such a way that the circuit depth is lower. Probably, you will need extra (ancilla) qubits for this, but that is no big issue, as quantum computers in the NISQ-era tend to have many physical qubits with low error rate. Error rate and noise are our enemies in this challenge, not the small size of the QPU's.\n",
    "\n",
    "When you have created a good distribution loading method, apply your new method to the credit risk analysis example. See if you can get to better accuracies than the qiskit implementation.\n",
    "\n",
    "Additionally, consider integrating the Quantinuum H-series systems into your analysis. For this challenge, the H1-1 emulator is available through Quantinuum Nexus for exploration. The H-series platforms could offer significant advantages in terms of error rates due to the system's high-fidelity qubits."
   ]
  },
  {
   "cell_type": "markdown",
   "metadata": {},
   "source": [
    "## Running on H-Series Emulators"
   ]
  },
  {
   "cell_type": "markdown",
   "metadata": {},
   "source": [
    "First convert Qiskit circuit to `pytket` circuit"
   ]
  },
  {
   "cell_type": "code",
   "execution_count": 12,
   "metadata": {},
   "outputs": [
    {
     "data": {
      "text/html": [
       "\n",
       "\n",
       "\n",
       "\n",
       "\n",
       "\n",
       "<div style=\"resize: vertical; overflow: auto; height: 400px; display: block\">\n",
       "    <iframe srcdoc=\"\n",
       "&lt;!DOCTYPE html&gt;\n",
       "&lt;html lang=&#34;en&#34;&gt;\n",
       "&lt;head&gt;\n",
       "    &lt;meta charset=&#34;UTF-8&#34;&gt;\n",
       "    &lt;!-- Download Vue 3--&gt;\n",
       "&lt;script type=&#34;application/javascript&#34; src=&#34;https://cdn.jsdelivr.net/npm/vue@3&#34;&gt;&lt;/script&gt;\n",
       "&lt;!-- Download Circuit Renderer with styles --&gt;\n",
       "&lt;script type=&#34;application/javascript&#34; src=&#34;https://unpkg.com/pytket-circuit-renderer@0.7/dist/pytket-circuit-renderer.umd.js&#34;&gt;&lt;/script&gt;\n",
       "&lt;link rel=&#34;stylesheet&#34; href=&#34;https://unpkg.com/pytket-circuit-renderer@0.7/dist/pytket-circuit-renderer.css&#34;&gt;\n",
       "&lt;/head&gt;\n",
       "&lt;body&gt;\n",
       "\n",
       "\n",
       "\n",
       "    &lt;div id=&#34;circuit-display-vue-container-64ce25fb-9cd1-416a-bb2f-aaf85c885e34&#34; class=&#34;pytket-circuit-display-container&#34;&gt;\n",
       "        &lt;div style=&#34;display: none&#34;&gt;\n",
       "            &lt;div id=&#34;circuit-json-to-display&#34;&gt;{&#34;bits&#34;: [[&#34;meas&#34;, [0]], [&#34;meas&#34;, [1]], [&#34;meas&#34;, [2]], [&#34;meas&#34;, [3]]], &#34;commands&#34;: [{&#34;args&#34;: [[&#34;q&#34;, [0]]], &#34;op&#34;: {&#34;params&#34;: [&#34;1.5708/pi&#34;], &#34;type&#34;: &#34;Ry&#34;}}, {&#34;args&#34;: [[&#34;q&#34;, [1]]], &#34;op&#34;: {&#34;params&#34;: [&#34;1.5708/pi&#34;], &#34;type&#34;: &#34;Ry&#34;}}, {&#34;args&#34;: [[&#34;q&#34;, [2]]], &#34;op&#34;: {&#34;params&#34;: [&#34;1.5708/pi&#34;], &#34;type&#34;: &#34;Ry&#34;}}, {&#34;args&#34;: [[&#34;q&#34;, [2]], [&#34;q&#34;, [3]]], &#34;op&#34;: {&#34;type&#34;: &#34;CX&#34;}}, {&#34;args&#34;: [[&#34;q&#34;, [3]], [&#34;q&#34;, [1]]], &#34;op&#34;: {&#34;type&#34;: &#34;CX&#34;}}, {&#34;args&#34;: [[&#34;q&#34;, [3]], [&#34;q&#34;, [0]]], &#34;op&#34;: {&#34;type&#34;: &#34;CX&#34;}}, {&#34;args&#34;: [[&#34;q&#34;, [0]]], &#34;op&#34;: {&#34;params&#34;: [&#34;0.285/pi&#34;], &#34;type&#34;: &#34;Ry&#34;}}, {&#34;args&#34;: [[&#34;q&#34;, [2]], [&#34;q&#34;, [3]]], &#34;op&#34;: {&#34;type&#34;: &#34;CX&#34;}}, {&#34;args&#34;: [[&#34;q&#34;, [3]], [&#34;q&#34;, [0]]], &#34;op&#34;: {&#34;type&#34;: &#34;CX&#34;}}, {&#34;args&#34;: [[&#34;q&#34;, [0]]], &#34;op&#34;: {&#34;params&#34;: [&#34;1.665e-16/pi&#34;], &#34;type&#34;: &#34;Ry&#34;}}, {&#34;args&#34;: [[&#34;q&#34;, [3]], [&#34;q&#34;, [0]]], &#34;op&#34;: {&#34;type&#34;: &#34;CX&#34;}}, {&#34;args&#34;: [[&#34;q&#34;, [0]]], &#34;op&#34;: {&#34;params&#34;: [&#34;0.644/pi&#34;], &#34;type&#34;: &#34;Ry&#34;}}, {&#34;args&#34;: [[&#34;q&#34;, [0]], [&#34;q&#34;, [1]], [&#34;q&#34;, [2]], [&#34;q&#34;, [3]]], &#34;op&#34;: {&#34;data&#34;: &#34;&#34;, &#34;signature&#34;: [&#34;Q&#34;, &#34;Q&#34;, &#34;Q&#34;, &#34;Q&#34;], &#34;type&#34;: &#34;Barrier&#34;}}, {&#34;args&#34;: [[&#34;q&#34;, [0]], [&#34;meas&#34;, [0]]], &#34;op&#34;: {&#34;type&#34;: &#34;Measure&#34;}}, {&#34;args&#34;: [[&#34;q&#34;, [1]], [&#34;meas&#34;, [1]]], &#34;op&#34;: {&#34;type&#34;: &#34;Measure&#34;}}, {&#34;args&#34;: [[&#34;q&#34;, [2]], [&#34;meas&#34;, [2]]], &#34;op&#34;: {&#34;type&#34;: &#34;Measure&#34;}}, {&#34;args&#34;: [[&#34;q&#34;, [3]], [&#34;meas&#34;, [3]]], &#34;op&#34;: {&#34;type&#34;: &#34;Measure&#34;}}], &#34;created_qubits&#34;: [], &#34;discarded_qubits&#34;: [], &#34;implicit_permutation&#34;: [[[&#34;q&#34;, [0]], [&#34;q&#34;, [0]]], [[&#34;q&#34;, [1]], [&#34;q&#34;, [1]]], [[&#34;q&#34;, [2]], [&#34;q&#34;, [2]]], [[&#34;q&#34;, [3]], [&#34;q&#34;, [3]]]], &#34;name&#34;: &#34;circuit-541&#34;, &#34;phase&#34;: &#34;0.0&#34;, &#34;qubits&#34;: [[&#34;q&#34;, [0]], [&#34;q&#34;, [1]], [&#34;q&#34;, [2]], [&#34;q&#34;, [3]]]}&lt;/div&gt;\n",
       "        &lt;/div&gt;\n",
       "        &lt;circuit-display-container\n",
       "                :circuit-element-str=&#34;&#39;#circuit-json-to-display&#39;&#34;\n",
       "                :init-render-options=&#34;initRenderOptions&#34;\n",
       "        &gt;&lt;/circuit-display-container&gt;\n",
       "    &lt;/div&gt;\n",
       "    &lt;script type=&#34;application/javascript&#34;&gt;\n",
       "      const circuitRendererUid = &#34;64ce25fb-9cd1-416a-bb2f-aaf85c885e34&#34;;\n",
       "      const displayOptions = JSON.parse(&#39;{}&#39;);\n",
       "\n",
       "      // Script to initialise the circuit renderer app\n",
       "\n",
       "const { createApp } = Vue;\n",
       "const circuitDisplayContainer = window[&#34;pytket-circuit-renderer&#34;].default;\n",
       "// Init variables to be shared between circuit display instances\n",
       "if (typeof window.pytketCircuitDisplays === &#34;undefined&#34;) {\n",
       "    window.pytketCircuitDisplays = {};\n",
       "}\n",
       "// Create the root Vue component\n",
       "const app = createApp({\n",
       "    delimiters: [&#39;[[#&#39;, &#39;#]]&#39;],\n",
       "    components: { circuitDisplayContainer },\n",
       "    data () {\n",
       "      return {\n",
       "        initRenderOptions: displayOptions,\n",
       "      }\n",
       "    }\n",
       "})\n",
       "app.config.unwrapInjectedRef = true;\n",
       "app.mount(&#34;#circuit-display-vue-container-&#34;+circuitRendererUid);\n",
       "window.pytketCircuitDisplays[circuitRendererUid] = app;\n",
       "    &lt;/script&gt;\n",
       "\n",
       "\n",
       "\n",
       "&lt;/body&gt;\n",
       "&lt;/html&gt;\n",
       "\"\n",
       "            width=\"100%\" height=\"100%\"\n",
       "            style=\"border: none; outline: none; overflow: auto\"></iframe>\n",
       "</div>\n",
       "\n"
      ],
      "text/plain": [
       "<IPython.core.display.HTML object>"
      ]
     },
     "metadata": {},
     "output_type": "display_data"
    }
   ],
   "source": [
    "from pytket.extensions.qiskit import qiskit_to_tk\n",
    "from pytket.circuit.display import render_circuit_jupyter\n",
    "\n",
    "tket_circuit = qiskit_to_tk(normal_distribution)\n",
    "render_circuit_jupyter(tket_circuit)"
   ]
  },
  {
   "cell_type": "code",
   "execution_count": null,
   "metadata": {},
   "outputs": [],
   "source": []
  }
 ],
 "metadata": {
  "kernelspec": {
   "display_name": "Python 3 (ipykernel)",
   "language": "python",
   "name": "python3"
  },
  "language_info": {
   "codemirror_mode": {
    "name": "ipython",
    "version": 3
   },
   "file_extension": ".py",
   "mimetype": "text/x-python",
   "name": "python",
   "nbconvert_exporter": "python",
   "pygments_lexer": "ipython3",
   "version": "3.10.11"
  }
 },
 "nbformat": 4,
 "nbformat_minor": 4
}
